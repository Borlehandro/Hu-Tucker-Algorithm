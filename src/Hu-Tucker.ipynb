{
 "cells": [
  {
   "cell_type": "code",
   "execution_count": 73,
   "metadata": {},
   "outputs": [],
   "source": [
    "from collections import Counter\n",
    "from enum import Enum"
   ]
  },
  {
   "cell_type": "code",
   "execution_count": 74,
   "metadata": {},
   "outputs": [],
   "source": [
    "class NodeType(Enum):\n",
    "    ALPHABETIC = 0\n",
    "    TERMINAL = 1\n",
    "\n",
    "class Node:\n",
    "    level = None\n",
    "    def __init__(self, left, right, weight, value, type : NodeType):\n",
    "        self.left = left\n",
    "        self.right = right\n",
    "        self.weight = weight\n",
    "        self.value = value\n",
    "        self.type = type"
   ]
  },
  {
   "cell_type": "markdown",
   "source": [
    "#### Combining"
   ],
   "metadata": {
    "collapsed": false
   }
  },
  {
   "cell_type": "code",
   "execution_count": 75,
   "outputs": [],
   "source": [
    "def find_min_adjacent(nodes_list, index):\n",
    "    min_adj = nodes_list[index].weight + nodes_list[index + 1].weight\n",
    "    min_adj_index = index + 1\n",
    "    for i in range(index + 1, len(nodes_list)):\n",
    "        if nodes_list[i].weight + nodes_list[index].weight < min_adj:\n",
    "                min_adj = nodes_list[i].weight + nodes_list[index].weight\n",
    "                min_adj_index = i\n",
    "        if nodes_list[i].type is NodeType.ALPHABETIC:\n",
    "            break\n",
    "    return min_adj_index"
   ],
   "metadata": {
    "collapsed": false,
    "pycharm": {
     "name": "#%%\n"
    }
   }
  },
  {
   "cell_type": "code",
   "execution_count": 76,
   "outputs": [],
   "source": [
    "# Todo fix!\n",
    "def combine(nodes_list):\n",
    "    while len(nodes_list) > 1:\n",
    "        min_sum = nodes_list[0].weight + nodes_list[1].weight\n",
    "        min_left_index = 0\n",
    "        min_right_index = 1\n",
    "        for i in range(0, len(nodes_list) - 1):\n",
    "            min_adj_index = find_min_adjacent(nodes_list, i)\n",
    "            print(\"Min adj for\", i, \":\", min_adj_index)\n",
    "            if nodes_list[i].weight + nodes_list[min_adj_index].weight < min_sum:\n",
    "                min_sum = nodes_list[i].weight + nodes_list[min_adj_index].weight\n",
    "                min_left_index = i\n",
    "                min_right_index = min_adj_index\n",
    "        print(\"United: \", nodes_list[min_left_index].weight, \"+\", nodes_list[min_right_index].weight, \"(\", min_left_index, \",\" , min_right_index, \")\", nodes_list[min_left_index].value, nodes_list[min_right_index].value, min_sum)\n",
    "        nodes_list[min_left_index] = Node(nodes_list[min_left_index], nodes_list[min_right_index], min_sum, None, NodeType.TERMINAL)\n",
    "        nodes_list.pop(min_right_index)"
   ],
   "metadata": {
    "collapsed": false,
    "pycharm": {
     "name": "#%%\n"
    }
   }
  },
  {
   "cell_type": "markdown",
   "source": [
    "#### Levels counting"
   ],
   "metadata": {
    "collapsed": false
   }
  },
  {
   "cell_type": "code",
   "execution_count": 77,
   "outputs": [],
   "source": [
    "def count_levels(node):\n",
    "    if node.left != None :\n",
    "        node.left.level = node.level + 1\n",
    "        node.right.level = node.level + 1\n",
    "        count_levels(node.left)\n",
    "        count_levels(node.right)"
   ],
   "metadata": {
    "collapsed": false,
    "pycharm": {
     "name": "#%%\n"
    }
   }
  },
  {
   "cell_type": "markdown",
   "source": [
    "#### Restructuring"
   ],
   "metadata": {
    "collapsed": false
   }
  },
  {
   "cell_type": "code",
   "execution_count": 78,
   "outputs": [],
   "source": [
    "def restrict(nodes_list):\n",
    "    stack = list()\n",
    "    i = 0\n",
    "    new_node = None\n",
    "    while i <= len(nodes_list):\n",
    "        if len(stack) < 2 or stack[-1].level != stack[-2].level:\n",
    "            if i == len(nodes_list):\n",
    "                break\n",
    "            stack.append(nodes_list[i])\n",
    "            i+=1\n",
    "        else:\n",
    "            left = stack.pop()\n",
    "            right = stack.pop()\n",
    "            new_node = Node(left, right, None, None, NodeType.TERMINAL)\n",
    "            new_node.level = left.level - 1\n",
    "            stack.append(new_node)\n",
    "        print(\"Stack:\")\n",
    "        for item in stack:\n",
    "            print(item.level, \",\")\n",
    "    return new_node"
   ],
   "metadata": {
    "collapsed": false,
    "pycharm": {
     "name": "#%%\n"
    }
   }
  },
  {
   "cell_type": "markdown",
   "source": [
    "#### Generate code table"
   ],
   "metadata": {
    "collapsed": false
   }
  },
  {
   "cell_type": "code",
   "execution_count": 79,
   "outputs": [],
   "source": [
    "def generate_code_table(root_node : Node, table_dict, current_bits):\n",
    "    if root_node.left is not None and root_node.right is not None:\n",
    "        left_bits = current_bits.copy()\n",
    "        right_bits = current_bits.copy()\n",
    "        left_bits.append(0)\n",
    "        right_bits.append(1)\n",
    "        print(\"right: \", right_bits, \" left:\", left_bits)\n",
    "        generate_code_table(root_node.left, table_dict, left_bits)\n",
    "        generate_code_table(root_node.right, table_dict, right_bits)\n",
    "    else:\n",
    "        table_dict[root_node.value] = current_bits"
   ],
   "metadata": {
    "collapsed": false,
    "pycharm": {
     "name": "#%%\n"
    }
   }
  },
  {
   "cell_type": "markdown",
   "source": [
    "#### For tests"
   ],
   "metadata": {
    "collapsed": false,
    "pycharm": {
     "name": "#%% md\n"
    }
   }
  },
  {
   "cell_type": "code",
   "execution_count": 80,
   "outputs": [],
   "source": [
    "def output_tree(root : Node):\n",
    "    stack = [root]\n",
    "    while len(stack) > 0 :\n",
    "        item = stack.pop(0)\n",
    "        print(item.value, \":\", item.level)\n",
    "        if item.left is not None:\n",
    "            stack.append(item.left)\n",
    "            stack.append(item.right)"
   ],
   "metadata": {
    "collapsed": false,
    "pycharm": {
     "name": "#%%\n"
    }
   }
  },
  {
   "cell_type": "markdown",
   "source": [
    "### Main body"
   ],
   "metadata": {
    "collapsed": false
   }
  },
  {
   "cell_type": "code",
   "execution_count": 81,
   "metadata": {},
   "outputs": [
    {
     "data": {
      "text/plain": "[('a', 8),\n ('b', 6),\n ('c', 2),\n ('d', 3),\n ('e', 4),\n ('f', 7),\n ('g', 11),\n ('h', 9),\n ('i', 8),\n ('j', 1),\n ('k', 3)]"
     },
     "execution_count": 81,
     "metadata": {},
     "output_type": "execute_result"
    }
   ],
   "source": [
    "input_file = open(\"../test/test.txt\", \"r\")\n",
    "symbols_weights = Counter(input_file.read())\n",
    "sorted(symbols_weights.items())"
   ]
  },
  {
   "cell_type": "code",
   "execution_count": 82,
   "metadata": {},
   "outputs": [
    {
     "name": "stdout",
     "output_type": "stream",
     "text": [
      "a\n",
      "b\n",
      "c\n",
      "d\n",
      "e\n",
      "f\n",
      "g\n",
      "h\n",
      "i\n",
      "j\n",
      "k\n"
     ]
    }
   ],
   "source": [
    "nodes_list = list(map(lambda symbol_weight: Node(None, None, symbol_weight[1], symbol_weight[0], NodeType.ALPHABETIC), sorted(symbols_weights.items())))\n",
    "leaves = nodes_list.copy()\n",
    "for node in nodes_list:\n",
    "    print(node.value, sep=\" \")"
   ]
  },
  {
   "cell_type": "code",
   "execution_count": 83,
   "outputs": [
    {
     "name": "stdout",
     "output_type": "stream",
     "text": [
      "Min adj for 0 : 1\n",
      "Min adj for 1 : 2\n",
      "Min adj for 2 : 3\n",
      "Min adj for 3 : 4\n",
      "Min adj for 4 : 5\n",
      "Min adj for 5 : 6\n",
      "Min adj for 6 : 7\n",
      "Min adj for 7 : 8\n",
      "Min adj for 8 : 9\n",
      "Min adj for 9 : 10\n",
      "United:  1 + 3 ( 9 , 10 ) j k 4\n",
      "Min adj for 0 : 1\n",
      "Min adj for 1 : 2\n",
      "Min adj for 2 : 3\n",
      "Min adj for 3 : 4\n",
      "Min adj for 4 : 5\n",
      "Min adj for 5 : 6\n",
      "Min adj for 6 : 7\n",
      "Min adj for 7 : 8\n",
      "Min adj for 8 : 9\n",
      "United:  2 + 3 ( 2 , 3 ) c d 5\n",
      "Min adj for 0 : 1\n",
      "Min adj for 1 : 3\n",
      "Min adj for 2 : 3\n",
      "Min adj for 3 : 4\n",
      "Min adj for 4 : 5\n",
      "Min adj for 5 : 6\n",
      "Min adj for 6 : 7\n",
      "Min adj for 7 : 8\n",
      "United:  5 + 4 ( 2 , 3 ) None e 9\n",
      "Min adj for 0 : 1\n",
      "Min adj for 1 : 3\n",
      "Min adj for 2 : 3\n",
      "Min adj for 3 : 4\n",
      "Min adj for 4 : 5\n",
      "Min adj for 5 : 6\n",
      "Min adj for 6 : 7\n",
      "United:  8 + 4 ( 6 , 7 ) i None 12\n",
      "Min adj for 0 : 1\n",
      "Min adj for 1 : 3\n",
      "Min adj for 2 : 3\n",
      "Min adj for 3 : 4\n",
      "Min adj for 4 : 5\n",
      "Min adj for 5 : 6\n",
      "United:  6 + 7 ( 1 , 3 ) b f 13\n",
      "Min adj for 0 : 2\n",
      "Min adj for 1 : 2\n",
      "Min adj for 2 : 3\n",
      "Min adj for 3 : 4\n",
      "Min adj for 4 : 5\n",
      "United:  8 + 9 ( 0 , 2 ) a None 17\n",
      "Min adj for 0 : 2\n",
      "Min adj for 1 : 2\n",
      "Min adj for 2 : 3\n",
      "Min adj for 3 : 4\n",
      "United:  11 + 9 ( 2 , 3 ) g h 20\n",
      "Min adj for 0 : 3\n",
      "Min adj for 1 : 3\n",
      "Min adj for 2 : 3\n",
      "United:  13 + 12 ( 1 , 3 ) None None 25\n",
      "Min adj for 0 : 2\n",
      "Min adj for 1 : 2\n",
      "United:  17 + 20 ( 0 , 2 ) None None 37\n",
      "Min adj for 0 : 1\n",
      "United:  37 + 25 ( 0 , 1 ) None None 62\n"
     ]
    }
   ],
   "source": [
    "combine(nodes_list)\n",
    "root = nodes_list[0]"
   ],
   "metadata": {
    "collapsed": false,
    "pycharm": {
     "name": "#%%\n"
    }
   }
  },
  {
   "cell_type": "code",
   "execution_count": 84,
   "metadata": {},
   "outputs": [
    {
     "name": "stdout",
     "output_type": "stream",
     "text": [
      "None : 0\n",
      "None : 1\n",
      "None : 1\n",
      "None : 2\n",
      "None : 2\n",
      "None : 2\n",
      "None : 2\n",
      "a : 3\n",
      "None : 3\n",
      "g : 3\n",
      "h : 3\n",
      "b : 3\n",
      "f : 3\n",
      "i : 3\n",
      "None : 3\n",
      "None : 4\n",
      "e : 4\n",
      "j : 4\n",
      "k : 4\n",
      "c : 5\n",
      "d : 5\n"
     ]
    }
   ],
   "source": [
    "root.level = 0\n",
    "count_levels(root)\n",
    "output_tree(root)"
   ]
  },
  {
   "cell_type": "code",
   "execution_count": 85,
   "metadata": {},
   "outputs": [
    {
     "name": "stdout",
     "output_type": "stream",
     "text": [
      "Stack:\n",
      "3 ,\n",
      "Stack:\n",
      "3 ,\n",
      "3 ,\n",
      "Stack:\n",
      "2 ,\n",
      "Stack:\n",
      "2 ,\n",
      "5 ,\n",
      "Stack:\n",
      "2 ,\n",
      "5 ,\n",
      "5 ,\n",
      "Stack:\n",
      "2 ,\n",
      "4 ,\n",
      "Stack:\n",
      "2 ,\n",
      "4 ,\n",
      "4 ,\n",
      "Stack:\n",
      "2 ,\n",
      "3 ,\n",
      "Stack:\n",
      "2 ,\n",
      "3 ,\n",
      "3 ,\n",
      "Stack:\n",
      "2 ,\n",
      "2 ,\n",
      "Stack:\n",
      "1 ,\n",
      "Stack:\n",
      "1 ,\n",
      "3 ,\n",
      "Stack:\n",
      "1 ,\n",
      "3 ,\n",
      "3 ,\n",
      "Stack:\n",
      "1 ,\n",
      "2 ,\n",
      "Stack:\n",
      "1 ,\n",
      "2 ,\n",
      "3 ,\n",
      "Stack:\n",
      "1 ,\n",
      "2 ,\n",
      "3 ,\n",
      "4 ,\n",
      "Stack:\n",
      "1 ,\n",
      "2 ,\n",
      "3 ,\n",
      "4 ,\n",
      "4 ,\n",
      "Stack:\n",
      "1 ,\n",
      "2 ,\n",
      "3 ,\n",
      "3 ,\n",
      "Stack:\n",
      "1 ,\n",
      "2 ,\n",
      "2 ,\n",
      "Stack:\n",
      "1 ,\n",
      "1 ,\n",
      "Stack:\n",
      "0 ,\n"
     ]
    }
   ],
   "source": [
    "root = restrict(leaves)"
   ]
  },
  {
   "cell_type": "code",
   "execution_count": 86,
   "metadata": {},
   "outputs": [
    {
     "name": "stdout",
     "output_type": "stream",
     "text": [
      "right:  [1]  left: [0]\n",
      "right:  [0, 1]  left: [0, 0]\n",
      "right:  [0, 0, 1]  left: [0, 0, 0]\n",
      "right:  [0, 0, 0, 1]  left: [0, 0, 0, 0]\n",
      "right:  [0, 1, 1]  left: [0, 1, 0]\n",
      "right:  [1, 1]  left: [1, 0]\n",
      "right:  [1, 0, 1]  left: [1, 0, 0]\n",
      "right:  [1, 0, 1, 1]  left: [1, 0, 1, 0]\n",
      "right:  [1, 0, 1, 1, 1]  left: [1, 0, 1, 1, 0]\n",
      "right:  [1, 1, 1]  left: [1, 1, 0]\n"
     ]
    },
    {
     "data": {
      "text/plain": "{'k': [0, 0, 0, 0],\n 'j': [0, 0, 0, 1],\n 'i': [0, 0, 1],\n 'h': [0, 1, 0],\n 'g': [0, 1, 1],\n 'f': [1, 0, 0],\n 'e': [1, 0, 1, 0],\n 'd': [1, 0, 1, 1, 0],\n 'c': [1, 0, 1, 1, 1],\n 'b': [1, 1, 0],\n 'a': [1, 1, 1]}"
     },
     "execution_count": 86,
     "metadata": {},
     "output_type": "execute_result"
    }
   ],
   "source": [
    "code_table = {}\n",
    "generate_code_table(root, code_table, [])\n",
    "code_table\n"
   ]
  }
 ],
 "metadata": {
  "kernelspec": {
   "display_name": "Python 3",
   "language": "python",
   "name": "python3"
  },
  "language_info": {
   "codemirror_mode": {
    "name": "ipython",
    "version": 3
   },
   "file_extension": ".py",
   "mimetype": "text/x-python",
   "name": "python",
   "nbconvert_exporter": "python",
   "pygments_lexer": "ipython3",
   "version": "3.7.7"
  }
 },
 "nbformat": 4,
 "nbformat_minor": 4
}